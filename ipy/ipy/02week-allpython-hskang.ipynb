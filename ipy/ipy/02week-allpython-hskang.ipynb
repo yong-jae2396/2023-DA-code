{
 "cells": [
  {
   "cell_type": "code",
   "execution_count": 5,
   "id": "eb3479dd",
   "metadata": {},
   "outputs": [
    {
     "name": "stdout",
     "output_type": "stream",
     "text": [
      "출생연도를 입력하세요!2024\n"
     ]
    }
   ],
   "source": [
    "birth = input('출생연도를 입력하세요!')"
   ]
  },
  {
   "cell_type": "code",
   "execution_count": 6,
   "id": "4de6f37f",
   "metadata": {},
   "outputs": [
    {
     "name": "stdout",
     "output_type": "stream",
     "text": [
      " 이름을 입력하세요;홍길동\n"
     ]
    }
   ],
   "source": [
    "name = input(' 이름을 입력하세요;')"
   ]
  },
  {
   "cell_type": "code",
   "execution_count": 7,
   "id": "f28dd78c",
   "metadata": {},
   "outputs": [],
   "source": [
    "age = 2022 - int(birth)"
   ]
  },
  {
   "cell_type": "code",
   "execution_count": null,
   "id": "96ceab59",
   "metadata": {},
   "outputs": [],
   "source": []
  },
  {
   "cell_type": "raw",
   "id": "c09d121d",
   "metadata": {},
   "source": [
    "import random"
   ]
  },
  {
   "cell_type": "code",
   "execution_count": 10,
   "id": "dceb207c",
   "metadata": {},
   "outputs": [
    {
     "ename": "NameError",
     "evalue": "name 'random' is not defined",
     "output_type": "error",
     "traceback": [
      "\u001b[1;31m---------------------------------------------------------------------------\u001b[0m",
      "\u001b[1;31mNameError\u001b[0m                                 Traceback (most recent call last)",
      "\u001b[1;32m~\\AppData\\Local\\Temp\\ipykernel_1836\\1416717929.py\u001b[0m in \u001b[0;36m<module>\u001b[1;34m\u001b[0m\n\u001b[1;32m----> 1\u001b[1;33m \u001b[0mdice\u001b[0m \u001b[1;33m=\u001b[0m \u001b[0mrandom\u001b[0m\u001b[1;33m.\u001b[0m\u001b[0mrandint\u001b[0m\u001b[1;33m(\u001b[0m\u001b[1;36m1\u001b[0m\u001b[1;33m,\u001b[0m \u001b[1;36m6\u001b[0m\u001b[1;33m)\u001b[0m\u001b[1;33m\u001b[0m\u001b[1;33m\u001b[0m\u001b[0m\n\u001b[0m",
      "\u001b[1;31mNameError\u001b[0m: name 'random' is not defined"
     ]
    }
   ],
   "source": [
    "dice = random.randint(1, 6)"
   ]
  },
  {
   "cell_type": "code",
   "execution_count": null,
   "id": "19922932",
   "metadata": {},
   "outputs": [],
   "source": [
    "num1 = float(input(\"첫 번째 숫자를 입력하세요: \"))\n",
    "num2 = float(input(\"두 번째 숫자를 입력하세요: \"))\n",
    "\n",
    "max_num = max(num1, num2)\n",
    "print(\"더 큰 수는\", max_num, \"입니다.\")\n",
    "num1 = float(input(\"첫 번째 숫자를 입력하세요: \"))\n",
    "num2 = float(input(\"두 번째 숫자를 입력하세요: \"))\n",
    "​\n",
    "max_num = max(num1, num2)\n",
    "print(\"더 큰 수는\", max_num, \"입니다.\")"
   ]
  },
  {
   "cell_type": "code",
   "execution_count": null,
   "id": "830081fb",
   "metadata": {},
   "outputs": [],
   "source": [
    "첫 번째 숫자를 입력하세요: 3\n",
    "두 번째 숫자를 입력하세요: 4\n",
    "더 큰 수는 4.0 입니다."
   ]
  },
  {
   "cell_type": "code",
   "execution_count": null,
   "id": "27d18c33",
   "metadata": {},
   "outputs": [],
   "source": [
    "def celsius_to_fahrenheit(celsius):\n",
    "    return(celsius * 9/5) + 32\n",
    "def kilometers_to_mailes(kilometers):\n",
    "    return kilometers * 0.621371\n",
    "def pounds_to_kilograms(pounds):\n",
    "    return pounds * 0.453592"
   ]
  }
 ],
 "metadata": {
  "kernelspec": {
   "display_name": "Python 3 (ipykernel)",
   "language": "python",
   "name": "python3"
  },
  "language_info": {
   "codemirror_mode": {
    "name": "ipython",
    "version": 3
   },
   "file_extension": ".py",
   "mimetype": "text/x-python",
   "name": "python",
   "nbconvert_exporter": "python",
   "pygments_lexer": "ipython3",
   "version": "3.9.13"
  }
 },
 "nbformat": 4,
 "nbformat_minor": 5
}
